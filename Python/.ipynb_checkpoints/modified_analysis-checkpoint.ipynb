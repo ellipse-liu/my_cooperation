{
 "cells": [
  {
   "cell_type": "code",
   "execution_count": 31,
   "id": "9291bb2e-c9b4-4f71-9c6d-bf6d5e6578aa",
   "metadata": {},
   "outputs": [],
   "source": [
    "# 1 imports\n",
    "import pandas as pd\n",
    "from matplotlib import pyplot as plt\n",
    "import os\n",
    "import numpy as np\n",
    "import random\n",
    "import io\n",
    "from IPython.display import clear_output\n",
    "import time\n",
    "import matplotlib.animation\n",
    "import math"
   ]
  },
  {
   "cell_type": "code",
   "execution_count": 2,
   "id": "26ff2a0e-315e-4b60-8515-f739c09e7255",
   "metadata": {},
   "outputs": [],
   "source": [
    "# 2 runfile directories\n",
    "runfile_directory = 'Runfiles/'\n",
    "results_directory = 'Results/'\n",
    "template_file = 'template.txt'"
   ]
  },
  {
   "cell_type": "code",
   "execution_count": 3,
   "id": "1eb5a622-a41f-4e5f-b951-9e2dbb9e9696",
   "metadata": {},
   "outputs": [],
   "source": [
    "# 3 parameter dict and template writing functions\n",
    "parameter_dict = {'*fname': ['Python/Results/'],\n",
    "                  'steps': ['200'],\n",
    "                 'reps': ['2'],\n",
    "                 'letter_grades' : ['true', 'false'],\n",
    "                  'prefix' : [\"adjusted_sweeps\"],\n",
    "                  'grading_error_alpha' : ['150.0'],\n",
    "                  'grading_error_beta' : ['150.0', ],\n",
    "                  'divorce_constant' : ['500'],\n",
    "                  'max_strikes' : ['3', '5', '7', '11', '13'],\n",
    "                  'num_agents' : ['25', '60', '150', '300', '500'],\n",
    "                  'agent_tolerance_alpha' : ['1.', '2.', '3.0', '4.0', '5.0'], # (1,1), else alpha < beta for tolerance, with a hard cap of 4 grades down\n",
    "                  'agent_tolerance_beta' : ['1.', '3.', '5.', '6.0', '7.0', '8.0', '9.0', '10.0'],\n",
    "                  'agent_effort_alpha' : ['5.', '7.5', '10.', '12.5', '15.'],\n",
    "                  'agent_effort_beta' : ['3.', '5.', '7.', '9.', '10.'], # effort beta < effort alpha\n",
    "                  'agent_std_effort' : ['0.01', '0.05', '0.075', '0.1', '0.15', '0.2'],\n",
    "                  'min_agents_per_group' : ['3'],\n",
    "                  'max_agents_per_group' : ['4'],\n",
    "                 }\n",
    "\n",
    "def design_runfile(new_fname, parameter_dict=parameter_dict):\n",
    "    with open(template_file) as template:\n",
    "        template_lines = template.readlines()\n",
    "\n",
    "    parameter_dict['*fname'] = [parameter_dict['*fname'][0] + new_fname.strip('.txt')]\n",
    "    \n",
    "    with open(runfile_directory + new_fname, 'w+') as new_file:\n",
    "        for line in template_lines:\n",
    "            param = line.split()[0]\n",
    "            if param not in parameter_dict:\n",
    "                new_file.write(line)\n",
    "            else:\n",
    "                fixer_upper = line.strip('\\n').split()[:2]\n",
    "                new_line = ' '.join(fixer_upper + (parameter_dict[param])) + '\\n'\n",
    "                new_file.write(new_line)\n",
    "                \n",
    "def delete_old_files(agent_dir, group_dir):\n",
    "    agent_files = os.listdir(agent_dir)\n",
    "    group_files = os.listdir(group_dir)\n",
    "    for file_name in agent_files:\n",
    "        file_path = os.path.join(agent_dir, file_name)\n",
    "        try:\n",
    "            if os.path.isfile(file_path) or os.path.islink(file_path):\n",
    "                os.unlink(file_path)  # Remove the file or link\n",
    "        except Exception as e:\n",
    "            print(f'Failed to delete {file_path}. Reason: {e}')\n",
    "    for file_name in group_files:\n",
    "        file_path = os.path.join(group_dir, file_name)\n",
    "        try:\n",
    "            if os.path.isfile(file_path) or os.path.islink(file_path):\n",
    "                os.unlink(file_path)  # Remove the file or link\n",
    "        except Exception as e:\n",
    "            print(f'Failed to delete {file_path}. Reason: {e}')"
   ]
  },
  {
   "cell_type": "code",
   "execution_count": null,
   "id": "88ab3136-1780-458c-88b0-2c03351e0296",
   "metadata": {},
   "outputs": [],
   "source": [
    "# 4 Create the run file\n",
    "design_runfile('adjusted_sweeps.txt', parameter_dict)"
   ]
  },
  {
   "cell_type": "code",
   "execution_count": 91,
   "id": "a0e8c9a3-4153-4c2e-9a00-9f8d6db3cd3c",
   "metadata": {},
   "outputs": [],
   "source": [
    "# OPTIONAL NUKE OLD FILES\n",
    "delete_old_files(\"Agent_data/\", \"Group_data/\")"
   ]
  },
  {
   "cell_type": "code",
   "execution_count": 92,
   "id": "2d2e69f5-0018-4831-9c07-8f3ed97d1043",
   "metadata": {},
   "outputs": [],
   "source": [
    "# 5 Agent and group analysis directories\n",
    "result_prefix = \"adjusted_sweeps\"\n",
    "agent_directory = \"Agent_data/\"\n",
    "agent_file_prefix = result_prefix + \"adjusted_sweeps_Agent-\"\n",
    "group_directory = \"Group_data/\"\n",
    "group_file_prefix = result_prefix + \"adjusted_sweeps_Group-\""
   ]
  },
  {
   "cell_type": "code",
   "execution_count": 93,
   "id": "70abda62-8048-4502-8419-d71db156ed3c",
   "metadata": {},
   "outputs": [],
   "source": [
    "# 6 agent and group intake functions\n",
    "def get_agent_results(agent_file_prefix, time_steps):\n",
    "    agent_dfs = {}\n",
    "    for filename in os.listdir(agent_directory):\n",
    "        file_path = os.path.join(agent_directory, filename)\n",
    "        # Check if it's a regular file (not a directory)\n",
    "        if os.path.isfile(file_path):\n",
    "            temp = open(file_path, 'r')\n",
    "            temp_lines = [line for line in temp.readlines() if not line.startswith('#')]\n",
    "            num_sections = len(temp_lines)//(time_steps+1)\n",
    "            df_set = []\n",
    "            for i in range(num_sections):\n",
    "                filtered_csv_string = ''.join(temp_lines)\n",
    "                csv_io = io.StringIO(filtered_csv_string)\n",
    "                df = pd.read_csv(csv_io, skiprows = i*(time_steps+1), nrows = time_steps, comment=\"#\")\n",
    "                df_set.append(df)\n",
    "            agent_dfs[filename.strip(agent_file_prefix).strip(\".txt\")] = df_set\n",
    "    return agent_dfs\n",
    "\n",
    "def get_group_results(group_file_prefix, time_steps):\n",
    "    group_dfs = {}\n",
    "    for filename in os.listdir(group_directory):\n",
    "        file_path = os.path.join(group_directory, filename)\n",
    "        # Check if it's a regular file (not a directory)\n",
    "        if os.path.isfile(file_path):\n",
    "            temp = open(file_path, 'r')\n",
    "            temp_lines = [line for line in temp.readlines() if not line.startswith('#')]\n",
    "            num_sections = len(temp_lines)//(time_steps+1)\n",
    "            df_set = []\n",
    "            for i in range(num_sections):\n",
    "                filtered_csv_string = ''.join(temp_lines)\n",
    "                csv_io = io.StringIO(filtered_csv_string)\n",
    "                df = pd.read_csv(csv_io, skiprows = i*(time_steps+1), nrows = time_steps, comment=\"#\")\n",
    "                df_set.append(df)\n",
    "            group_dfs[filename.strip(group_file_prefix).strip(\".txt\")] = df_set\n",
    "    return group_dfs"
   ]
  },
  {
   "cell_type": "code",
   "execution_count": 100,
   "id": "69e56d2d-0d57-4278-865f-d46315cd827d",
   "metadata": {},
   "outputs": [
    {
     "name": "stdout",
     "output_type": "stream",
     "text": [
      "dict_keys(['1', '2', '3', '4', '5', '6', '7', '8'])\n"
     ]
    }
   ],
   "source": [
    "# 7 get agent and group dfs\n",
    "agent_dfs = get_agent_results(agent_file_prefix, 200)\n",
    "group_dfs = get_group_results(group_file_prefix, 200)"
   ]
  },
  {
   "cell_type": "code",
   "execution_count": 105,
   "id": "551a2d76-9957-4da2-b44f-106249822c3b",
   "metadata": {},
   "outputs": [
    {
     "name": "stdout",
     "output_type": "stream",
     "text": [
      "dict_keys(['1', '2', '3', '4', '5', '6', '7', '8'])\n",
      "62\n",
      "C-\n"
     ]
    }
   ],
   "source": [
    "print(group_dfs.keys())\n",
    "print(len(group_dfs['1']))\n",
    "print(group_dfs['1'][1]['step_grade'][1])"
   ]
  },
  {
   "cell_type": "code",
   "execution_count": 101,
   "id": "620ea281-d12d-4020-87ea-ea55a9e7ee31",
   "metadata": {},
   "outputs": [
    {
     "data": {
      "text/html": [
       "<div>\n",
       "<style scoped>\n",
       "    .dataframe tbody tr th:only-of-type {\n",
       "        vertical-align: middle;\n",
       "    }\n",
       "\n",
       "    .dataframe tbody tr th {\n",
       "        vertical-align: top;\n",
       "    }\n",
       "\n",
       "    .dataframe thead th {\n",
       "        text-align: right;\n",
       "    }\n",
       "</style>\n",
       "<table border=\"1\" class=\"dataframe\">\n",
       "  <thead>\n",
       "    <tr style=\"text-align: right;\">\n",
       "      <th></th>\n",
       "      <th>group_count</th>\n",
       "      <th>group_payoff</th>\n",
       "      <th>step_grade</th>\n",
       "      <th>loafing_detected</th>\n",
       "    </tr>\n",
       "  </thead>\n",
       "  <tbody>\n",
       "    <tr>\n",
       "      <th>0</th>\n",
       "      <td>3</td>\n",
       "      <td>65.115771</td>\n",
       "      <td>D</td>\n",
       "      <td>False</td>\n",
       "    </tr>\n",
       "    <tr>\n",
       "      <th>1</th>\n",
       "      <td>3</td>\n",
       "      <td>63.967114</td>\n",
       "      <td>D</td>\n",
       "      <td>False</td>\n",
       "    </tr>\n",
       "    <tr>\n",
       "      <th>2</th>\n",
       "      <td>3</td>\n",
       "      <td>65.942794</td>\n",
       "      <td>D</td>\n",
       "      <td>False</td>\n",
       "    </tr>\n",
       "    <tr>\n",
       "      <th>3</th>\n",
       "      <td>4</td>\n",
       "      <td>67.102271</td>\n",
       "      <td>D+</td>\n",
       "      <td>False</td>\n",
       "    </tr>\n",
       "    <tr>\n",
       "      <th>4</th>\n",
       "      <td>4</td>\n",
       "      <td>69.044107</td>\n",
       "      <td>D+</td>\n",
       "      <td>False</td>\n",
       "    </tr>\n",
       "    <tr>\n",
       "      <th>...</th>\n",
       "      <td>...</td>\n",
       "      <td>...</td>\n",
       "      <td>...</td>\n",
       "      <td>...</td>\n",
       "    </tr>\n",
       "    <tr>\n",
       "      <th>195</th>\n",
       "      <td>4</td>\n",
       "      <td>67.407264</td>\n",
       "      <td>D+</td>\n",
       "      <td>False</td>\n",
       "    </tr>\n",
       "    <tr>\n",
       "      <th>196</th>\n",
       "      <td>4</td>\n",
       "      <td>70.822465</td>\n",
       "      <td>C-</td>\n",
       "      <td>False</td>\n",
       "    </tr>\n",
       "    <tr>\n",
       "      <th>197</th>\n",
       "      <td>4</td>\n",
       "      <td>68.306389</td>\n",
       "      <td>D+</td>\n",
       "      <td>False</td>\n",
       "    </tr>\n",
       "    <tr>\n",
       "      <th>198</th>\n",
       "      <td>4</td>\n",
       "      <td>69.686295</td>\n",
       "      <td>D+</td>\n",
       "      <td>False</td>\n",
       "    </tr>\n",
       "    <tr>\n",
       "      <th>199</th>\n",
       "      <td>4</td>\n",
       "      <td>65.744063</td>\n",
       "      <td>D</td>\n",
       "      <td>False</td>\n",
       "    </tr>\n",
       "  </tbody>\n",
       "</table>\n",
       "<p>200 rows × 4 columns</p>\n",
       "</div>"
      ],
      "text/plain": [
       "     group_count  group_payoff step_grade  loafing_detected\n",
       "0              3     65.115771          D             False\n",
       "1              3     63.967114          D             False\n",
       "2              3     65.942794          D             False\n",
       "3              4     67.102271         D+             False\n",
       "4              4     69.044107         D+             False\n",
       "..           ...           ...        ...               ...\n",
       "195            4     67.407264         D+             False\n",
       "196            4     70.822465         C-             False\n",
       "197            4     68.306389         D+             False\n",
       "198            4     69.686295         D+             False\n",
       "199            4     65.744063          D             False\n",
       "\n",
       "[200 rows x 4 columns]"
      ]
     },
     "metadata": {},
     "output_type": "display_data"
    }
   ],
   "source": [
    "display(group_dfs['8'][0])"
   ]
  },
  {
   "cell_type": "code",
   "execution_count": null,
   "id": "3f097396-cd99-4817-b8e8-bace00ff5f67",
   "metadata": {},
   "outputs": [],
   "source": [
    "display(agent_dfs['10'][0])"
   ]
  },
  {
   "cell_type": "markdown",
   "id": "8cf85e9b-42c5-4fb3-a5d2-2c5e20fd66e2",
   "metadata": {},
   "source": [
    "# Updated Visualizations\n",
    "## Brainstorming\n",
    "What kind of visualization would be good?\n",
    "\n",
    "For starters, let's try re-creating the GUI of the experiment in a function and matplotlib."
   ]
  },
  {
   "cell_type": "code",
   "execution_count": 115,
   "id": "fe10f21b-e0fb-4bcb-b7fd-f2b32afcb477",
   "metadata": {},
   "outputs": [],
   "source": [
    "# function for visualizing the grades of each group growing up and down\n",
    "def isnan(value):\n",
    "    if isinstance(value, str):\n",
    "        return True\n",
    "    else:\n",
    "        return not math.isnan(value)\n",
    "\n",
    "def visualize_group_grades(group_dfs, run_number, run_length, window):\n",
    "    assert run_number < len(group_dfs['1']), \"Not enough runs\"\n",
    "    assert isinstance(group_dfs['1'][run_number]['step_grade'][1], str), \"Not a graded run\"\n",
    "    grade_list = [\"F-\", \"F\", \"F+\",\n",
    "    \t\t\t\t\"D-\", \"D\", \"D+\",\n",
    "    \t\t\t\t\"C-\", \"C\", \"C+\",\n",
    "\t\t\t\t\t\"B-\", \"B\", \"B+\",\n",
    "\t\t\t\t\t\"A-\", \"A\", \"A+\"]\n",
    "    grade_dict = {grade: i for i, grade in enumerate(grade_list)}\n",
    "    \n",
    "    group_dict = {}\n",
    "    for group, runs in group_dfs.items():\n",
    "        group_dict[group] = runs[run_number]\n",
    "    \n",
    "    # Create a figure and axis\n",
    "    fig, ax = plt.subplots()\n",
    "    \n",
    "    # Initialize lines for each group\n",
    "    lines = {}\n",
    "    for group in group_dict.keys():\n",
    "        lines[group], = ax.plot([], [], label=group)\n",
    "    ax.set_ylim(1, 15)\n",
    "    ax.legend(loc='upper left')\n",
    "\n",
    "    for i in range(run_length - window):\n",
    "        ax.set_title(f\"Timestep: {i + 1}\")\n",
    "        for group, data in group_dict.items():\n",
    "            x_data = list(range(i, i+window))\n",
    "            y_data = [grade_dict[grade] if isnan(grade) else -1 for grade in data['step_grade'][i:i+8]]\n",
    "            lines[group].set_data(x_data, y_data)\n",
    "\n",
    "            # adding social loafing markers\n",
    "            for j, possible_detection in enumerate(data['loafing_detected'][i:i+8]):\n",
    "                if possible_detection:\n",
    "                    ax.plot(x_data[j], y_data[j],'o', color='red', markersize=3)\n",
    "        plt.pause(0.1)\n",
    "        display(fig)\n",
    "        clear_output(wait=True)\n",
    "        ax.set_xlim(i+1, i + window*2)\n",
    "    plt.ioff()\n",
    "    plt.show()"
   ]
  },
  {
   "cell_type": "code",
   "execution_count": null,
   "id": "0a51deeb-9aba-4307-b756-0d9f1ffccaf6",
   "metadata": {},
   "outputs": [],
   "source": [
    "def gui_visualize(agent_dfs, group_dfs, run_number, run_length):\n",
    "    group_dict = {}\n",
    "    agent_dict = {}\n",
    "    group_locations = {}\n",
    "    taken_group_locations = []\n",
    "    agent_locations = {}\n",
    "    for group, runs in group_dfs.items():\n",
    "        group_dict[group] = runs[run_number]\n",
    "    for agent, runs in agent_dfs.items():\n",
    "        agent_dict[agent] = runs[run_number]\n",
    "    # agents and groups gotten for the run\n",
    "    # now, create a matplotlib to plot them on\n",
    "    for i in range(run_length):\n",
    "        fig, ax = plt.subplots()\n",
    "        ax.set_title(f\"Timestep: {i + 1}\")\n",
    "        ax.set_xlim(0, 100)\n",
    "        ax.set_ylim(0, 100)\n",
    "        ax.axis('off')\n",
    "        ax.set_aspect('equal')\n",
    "        for group, group_data in group_dict.items():\n",
    "            if group not in group_locations:\n",
    "                temp = (random.randint(0, 100), random.randint(0, 100))\n",
    "                while temp in taken_group_locations:\n",
    "                    temp = (random.randint(0, 100), random.randint(0, 100))\n",
    "                group_locations[group] = temp\n",
    "            ax.plot(group_locations[group][0], group_locations[group][1], 'o', color='red', markersize=3)\n",
    "            ax.text(group_locations[group][0] + 1, group_locations[group][1] + 1, group_data['step_grade'][i], fontsize=8, verticalalignment='bottom', horizontalalignment='left')\n",
    "        plt.draw()\n",
    "        plt.pause(0.1)\n",
    "        clear_output(wait=True)"
   ]
  },
  {
   "cell_type": "code",
   "execution_count": null,
   "id": "6f0c7c88-2386-4280-bd33-5d0f79de84a3",
   "metadata": {},
   "outputs": [],
   "source": [
    "gui_visualize(agent_dfs, group_dfs, run_number = 0, run_length = 200)"
   ]
  },
  {
   "cell_type": "code",
   "execution_count": 116,
   "id": "549233ba-bebd-434c-9b0a-f0957746cfe5",
   "metadata": {},
   "outputs": [
    {
     "data": {
      "image/png": "[encoded data removed]",
      "text/plain": [
       "<Figure size 640x480 with 1 Axes>"
      ]
     },
     "metadata": {},
     "output_type": "display_data"
    }
   ],
   "source": [
    "visualize_group_grades(group_dfs, run_number=1, run_length=200, window=8)"
   ]
  },
  {
   "cell_type": "code",
   "execution_count": null,
   "id": "500e67b5-fe85-4239-8561-ba1eaead5876",
   "metadata": {},
   "outputs": [],
   "source": [
    "# identify social loafing\n"
   ]
  },
  {
   "cell_type": "code",
   "execution_count": null,
   "id": "62a678ac-2ae6-4a04-9831-5f6995dca79a",
   "metadata": {},
   "outputs": [],
   "source": []
  }
 ],
 "metadata": {
  "kernelspec": {
   "display_name": "Python 3 (ipykernel)",
   "language": "python",
   "name": "python3"
  },
  "language_info": {
   "codemirror_mode": {
    "name": "ipython",
    "version": 3
   },
   "file_extension": ".py",
   "mimetype": "text/x-python",
   "name": "python",
   "nbconvert_exporter": "python",
   "pygments_lexer": "ipython3",
   "version": "3.12.4"
  }
 },
 "nbformat": 4,
 "nbformat_minor": 5
}
