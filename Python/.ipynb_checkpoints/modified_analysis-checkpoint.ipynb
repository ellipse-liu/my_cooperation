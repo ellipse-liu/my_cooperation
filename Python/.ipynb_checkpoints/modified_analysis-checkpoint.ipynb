{
 "cells": [
  {
   "cell_type": "code",
   "execution_count": null,
   "id": "9291bb2e-c9b4-4f71-9c6d-bf6d5e6578aa",
   "metadata": {},
   "outputs": [],
   "source": [
    "# 1 imports\n",
    "import pandas as pd\n",
    "from matplotlib import pyplot as plt\n",
    "import os"
   ]
  },
  {
   "cell_type": "code",
   "execution_count": null,
   "id": "26ff2a0e-315e-4b60-8515-f739c09e7255",
   "metadata": {},
   "outputs": [],
   "source": [
    "# 2 runfile directories\n",
    "runfile_directory = 'Runfiles/'\n",
    "results_directory = 'Results/'\n",
    "template_file = 'template.txt'"
   ]
  },
  {
   "cell_type": "code",
   "execution_count": null,
   "id": "1eb5a622-a41f-4e5f-b951-9e2dbb9e9696",
   "metadata": {},
   "outputs": [],
   "source": [
    "# 3 parameter dict and template writing functions\n",
    "parameter_dict = {'*fname': ['Python/Results/'],\n",
    "                  'steps': ['100'],\n",
    "                 'reps': ['1'],\n",
    "                 'letter_grades' : ['true', 'false'],\n",
    "                  'prefix' : [\"new_model_test\"],\n",
    "                  'grading_error_alpha' : ['2.5'],\n",
    "                  'grading_error_beta' : ['2.5'],\n",
    "                  'divorce_constant' : ['1000'],\n",
    "                  'max_strikes' : ['3'],\n",
    "                  'num_agents' : ['60'],\n",
    "                  'agent_tolerance_alpha' : ['0.1'],\n",
    "                  'agent_tolerance_beta' : ['0.1'],\n",
    "                  'agent_effort_alpha' : ['0.1'],\n",
    "                  'agent_effort_beta' : ['0.1'],\n",
    "                  'agent_std_effort' : ['0.5'],\n",
    "                  'min_agents_per_group' : ['3'],\n",
    "                  'max_agents_per_group' : ['4'],\n",
    "                 }\n",
    "\n",
    "def design_runfile(new_fname, parameter_dict=parameter_dict):\n",
    "    with open(template_file) as template:\n",
    "        template_lines = template.readlines()\n",
    "\n",
    "    parameter_dict['*fname'] = [parameter_dict['*fname'][0] + new_fname.strip('.txt')]\n",
    "    \n",
    "    with open(runfile_directory + new_fname, 'w+') as new_file:\n",
    "        for line in template_lines:\n",
    "            param = line.split()[0]\n",
    "            if param not in parameter_dict:\n",
    "                new_file.write(line)\n",
    "            else:\n",
    "                fixer_upper = line.strip('\\n').split()[:2]\n",
    "                new_line = ' '.join(fixer_upper + (parameter_dict[param])) + '\\n'\n",
    "                new_file.write(new_line)"
   ]
  },
  {
   "cell_type": "code",
   "execution_count": null,
   "id": "88ab3136-1780-458c-88b0-2c03351e0296",
   "metadata": {},
   "outputs": [],
   "source": [
    "# 4 Create the run file\n",
    "design_runfile('new_model_test.txt', parameter_dict)"
   ]
  },
  {
   "cell_type": "code",
   "execution_count": null,
   "id": "2d2e69f5-0018-4831-9c07-8f3ed97d1043",
   "metadata": {},
   "outputs": [],
   "source": [
    "# 5 Agent and group analysis directories\n",
    "result_prefix = \"new_model_test\"\n",
    "agent_directory = \"Agent_data/\"\n",
    "agent_file_prefix = result_prefix + \"new_model_test_Agent-\"\n",
    "group_directory = \"Group_data/\"\n",
    "group_file_prefix = result_prefix + \"new_model_test_Group-\""
   ]
  },
  {
   "cell_type": "code",
   "execution_count": null,
   "id": "70abda62-8048-4502-8419-d71db156ed3c",
   "metadata": {},
   "outputs": [],
   "source": [
    "# 6 agent and group intake functions\n",
    "def get_agent_results(agent_file_prefix, time_steps):\n",
    "    agent_dfs = {}\n",
    "    for filename in os.listdir(agent_directory):\n",
    "        file_path = os.path.join(agent_directory, filename)\n",
    "        # Check if it's a regular file (not a directory)\n",
    "        if os.path.isfile(file_path):\n",
    "            temp = open(file_path, 'r')\n",
    "            temp_lines = temp.readlines()\n",
    "            num_sections = len(temp_lines)//(time_steps+1)\n",
    "            df_set = []\n",
    "            for i in range(num_sections):\n",
    "                df = pd.read_csv(file_path, skiprows = i*(time_steps+1), nrows = time_steps, comment=\"#\")\n",
    "                df_set.append(df)\n",
    "            agent_dfs[filename.strip(agent_file_prefix).strip(\".txt\")] = df_set\n",
    "    return agent_dfs\n",
    "\n",
    "def get_group_results(group_file_prefix, time_steps):\n",
    "    group_dfs = {}\n",
    "    for filename in os.listdir(group_directory):\n",
    "        file_path = os.path.join(group_directory, filename)\n",
    "        # Check if it's a regular file (not a directory)\n",
    "        if os.path.isfile(file_path):\n",
    "            temp = open(file_path, 'r')\n",
    "            temp_lines = temp.readlines()\n",
    "            num_sections = len(temp_lines)//(time_steps+1)\n",
    "            df_set = []\n",
    "            for i in range(num_sections):\n",
    "                df = pd.read_csv(file_path, skiprows = i*(time_steps+1), nrows = time_steps, comment=\"#\")\n",
    "                df_set.append(df)\n",
    "            group_dfs[filename.strip(group_file_prefix).strip(\".txt\")] = df_set\n",
    "    return group_dfs"
   ]
  },
  {
   "cell_type": "code",
   "execution_count": null,
   "id": "69e56d2d-0d57-4278-865f-d46315cd827d",
   "metadata": {},
   "outputs": [],
   "source": [
    "# 7 get agent and group dfs\n",
    "agent_dfs = get_agent_results(agent_file_prefix, 100)\n",
    "group_dfs = get_group_results(group_file_prefix, 100)"
   ]
  },
  {
   "cell_type": "code",
   "execution_count": null,
   "id": "11f51e7b-a363-4a49-95ea-90282a769f4f",
   "metadata": {},
   "outputs": [],
   "source": [
    "print(group_dfs.keys())"
   ]
  },
  {
   "cell_type": "code",
   "execution_count": null,
   "id": "620ea281-d12d-4020-87ea-ea55a9e7ee31",
   "metadata": {},
   "outputs": [],
   "source": [
    "display(group_dfs['10'])"
   ]
  },
  {
   "cell_type": "code",
   "execution_count": null,
   "id": "3f097396-cd99-4817-b8e8-bace00ff5f67",
   "metadata": {},
   "outputs": [],
   "source": [
    "display(agent_dfs['10'])"
   ]
  },
  {
   "cell_type": "code",
   "execution_count": null,
   "id": "b7deb44e-8cc8-44ce-a085-17fdd36ad86e",
   "metadata": {},
   "outputs": [],
   "source": []
  }
 ],
 "metadata": {
  "kernelspec": {
   "display_name": "Python 3 (ipykernel)",
   "language": "python",
   "name": "python3"
  },
  "language_info": {
   "codemirror_mode": {
    "name": "ipython",
    "version": 3
   },
   "file_extension": ".py",
   "mimetype": "text/x-python",
   "name": "python",
   "nbconvert_exporter": "python",
   "pygments_lexer": "ipython3",
   "version": "3.7.16"
  }
 },
 "nbformat": 4,
 "nbformat_minor": 5
}
